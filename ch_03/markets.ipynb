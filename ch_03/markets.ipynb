{
 "cells": [
  {
   "cell_type": "markdown",
   "metadata": {},
   "source": [
    "The goal here is to implement a Finance environment as a prediction game. \n",
    " - the environment uses static historical financial time series data to generate the states of the environment\n",
    " - the state is given by four floating point numbers representing four most recent data points in the time series\n",
    " - the value to be predicted is either 0 or 1\n",
    " - 0 means the financial time series value drops to a lower level (\"market goes down\")\n",
    " - 1 means the time series value rises to a higher level (\"market goes up\")"
   ]
  },
  {
   "cell_type": "code",
   "execution_count": 2,
   "metadata": {},
   "outputs": [],
   "source": [
    "# importing the necessary libraries\n",
    "import os\n",
    "import random\n",
    "import numpy as np\n",
    "import pandas as pd"
   ]
  },
  {
   "cell_type": "code",
   "execution_count": 3,
   "metadata": {},
   "outputs": [],
   "source": [
    "# setting the seed for reproducibility\n",
    "random.seed(100)\n",
    "\n",
    "# setting deterministic hashing in python\n",
    "os.environ['PYTHONHASHSEED'] = '0'"
   ]
  },
  {
   "cell_type": "code",
   "execution_count": 4,
   "metadata": {},
   "outputs": [
    {
     "name": "stdout",
     "output_type": "stream",
     "text": [
      "[0, 1, 1, 0, 1, 1, 1, 0, 0, 0]\n"
     ]
    }
   ],
   "source": [
    "# action space class\n",
    "class ActionSpace:\n",
    "    def sample(self):\n",
    "        return random.randint(0, 1)\n",
    "    \n",
    "# creating a action space result\n",
    "action_space = ActionSpace()\n",
    "\n",
    "# printing out the results of the action space\n",
    "# the .sample() returns a random action\n",
    "print([action_space.sample() for _ in range(10)])\n"
   ]
  },
  {
   "cell_type": "code",
   "execution_count": 5,
   "metadata": {},
   "outputs": [],
   "source": [
    "# the finance class\n",
    "class Finance:\n",
    "\n",
    "    # the url link for the data set\n",
    "    url = 'https://certificate.tpq.io/rl4finance.csv'\n",
    "\n",
    "    # the constructor\n",
    "    def __init__(self, symbol, feature, min_accuracy=0.485, n_features=4):\n",
    "\n",
    "        # symbol for the time series to be used for the prediction game\n",
    "        self.symbol = symbol\n",
    "\n",
    "        # the type of feature to be used to define the state of the environment\n",
    "        self.feature = feature\n",
    "\n",
    "        # the number of feature values to be provided to the agent\n",
    "        self.n_features = n_features\n",
    "\n",
    "        # the action space object that is used for random action sampling\n",
    "        self.action_space = ActionSpace()\n",
    "\n",
    "        # minimum prediction accuracy required for agent to continue with the prediction game\n",
    "        self.min_accuracy = min_accuracy\n",
    "\n",
    "        # retrieval of financial time series data from the remote source\n",
    "        self._get_data()\n",
    "\n",
    "        # method call for data preparation\n",
    "        self._prepare_data()"
   ]
  },
  {
   "cell_type": "code",
   "execution_count": 6,
   "metadata": {},
   "outputs": [
    {
     "data": {
      "text/html": [
       "<div>\n",
       "<style scoped>\n",
       "    .dataframe tbody tr th:only-of-type {\n",
       "        vertical-align: middle;\n",
       "    }\n",
       "\n",
       "    .dataframe tbody tr th {\n",
       "        vertical-align: top;\n",
       "    }\n",
       "\n",
       "    .dataframe thead th {\n",
       "        text-align: right;\n",
       "    }\n",
       "</style>\n",
       "<table border=\"1\" class=\"dataframe\">\n",
       "  <thead>\n",
       "    <tr style=\"text-align: right;\">\n",
       "      <th></th>\n",
       "      <th>Date</th>\n",
       "      <th>AAPL.O</th>\n",
       "      <th>MSFT.O</th>\n",
       "      <th>INTC.O</th>\n",
       "      <th>AMZN.O</th>\n",
       "      <th>GS.N</th>\n",
       "      <th>.SPX</th>\n",
       "      <th>.VIX</th>\n",
       "      <th>SPY</th>\n",
       "      <th>EUR=</th>\n",
       "      <th>XAU=</th>\n",
       "      <th>GDX</th>\n",
       "      <th>GLD</th>\n",
       "    </tr>\n",
       "  </thead>\n",
       "  <tbody>\n",
       "    <tr>\n",
       "      <th>0</th>\n",
       "      <td>2014-01-01</td>\n",
       "      <td>NaN</td>\n",
       "      <td>NaN</td>\n",
       "      <td>NaN</td>\n",
       "      <td>NaN</td>\n",
       "      <td>NaN</td>\n",
       "      <td>NaN</td>\n",
       "      <td>NaN</td>\n",
       "      <td>NaN</td>\n",
       "      <td>1.3752</td>\n",
       "      <td>1205.2900</td>\n",
       "      <td>NaN</td>\n",
       "      <td>NaN</td>\n",
       "    </tr>\n",
       "    <tr>\n",
       "      <th>1</th>\n",
       "      <td>2014-01-02</td>\n",
       "      <td>19.754623</td>\n",
       "      <td>37.16</td>\n",
       "      <td>25.790</td>\n",
       "      <td>19.8985</td>\n",
       "      <td>176.89</td>\n",
       "      <td>1831.98</td>\n",
       "      <td>14.23</td>\n",
       "      <td>182.920</td>\n",
       "      <td>1.3670</td>\n",
       "      <td>1224.5100</td>\n",
       "      <td>22.03</td>\n",
       "      <td>118.00</td>\n",
       "    </tr>\n",
       "    <tr>\n",
       "      <th>2</th>\n",
       "      <td>2014-01-03</td>\n",
       "      <td>19.320695</td>\n",
       "      <td>36.91</td>\n",
       "      <td>25.780</td>\n",
       "      <td>19.8220</td>\n",
       "      <td>178.15</td>\n",
       "      <td>1831.37</td>\n",
       "      <td>13.76</td>\n",
       "      <td>182.885</td>\n",
       "      <td>1.3587</td>\n",
       "      <td>1236.1600</td>\n",
       "      <td>21.83</td>\n",
       "      <td>119.29</td>\n",
       "    </tr>\n",
       "    <tr>\n",
       "      <th>3</th>\n",
       "      <td>2014-01-06</td>\n",
       "      <td>19.426052</td>\n",
       "      <td>36.13</td>\n",
       "      <td>25.460</td>\n",
       "      <td>19.6815</td>\n",
       "      <td>179.37</td>\n",
       "      <td>1826.77</td>\n",
       "      <td>13.55</td>\n",
       "      <td>182.360</td>\n",
       "      <td>1.3627</td>\n",
       "      <td>1237.5900</td>\n",
       "      <td>21.93</td>\n",
       "      <td>119.50</td>\n",
       "    </tr>\n",
       "    <tr>\n",
       "      <th>4</th>\n",
       "      <td>2014-01-07</td>\n",
       "      <td>19.287034</td>\n",
       "      <td>36.41</td>\n",
       "      <td>25.585</td>\n",
       "      <td>19.9015</td>\n",
       "      <td>178.29</td>\n",
       "      <td>1837.88</td>\n",
       "      <td>12.92</td>\n",
       "      <td>183.480</td>\n",
       "      <td>1.3615</td>\n",
       "      <td>1231.4900</td>\n",
       "      <td>21.97</td>\n",
       "      <td>118.82</td>\n",
       "    </tr>\n",
       "    <tr>\n",
       "      <th>...</th>\n",
       "      <td>...</td>\n",
       "      <td>...</td>\n",
       "      <td>...</td>\n",
       "      <td>...</td>\n",
       "      <td>...</td>\n",
       "      <td>...</td>\n",
       "      <td>...</td>\n",
       "      <td>...</td>\n",
       "      <td>...</td>\n",
       "      <td>...</td>\n",
       "      <td>...</td>\n",
       "      <td>...</td>\n",
       "      <td>...</td>\n",
       "    </tr>\n",
       "    <tr>\n",
       "      <th>2603</th>\n",
       "      <td>2023-12-25</td>\n",
       "      <td>NaN</td>\n",
       "      <td>NaN</td>\n",
       "      <td>NaN</td>\n",
       "      <td>NaN</td>\n",
       "      <td>NaN</td>\n",
       "      <td>NaN</td>\n",
       "      <td>NaN</td>\n",
       "      <td>NaN</td>\n",
       "      <td>1.1007</td>\n",
       "      <td>NaN</td>\n",
       "      <td>NaN</td>\n",
       "      <td>NaN</td>\n",
       "    </tr>\n",
       "    <tr>\n",
       "      <th>2604</th>\n",
       "      <td>2023-12-26</td>\n",
       "      <td>193.050000</td>\n",
       "      <td>374.66</td>\n",
       "      <td>50.500</td>\n",
       "      <td>153.4100</td>\n",
       "      <td>381.61</td>\n",
       "      <td>4774.75</td>\n",
       "      <td>12.99</td>\n",
       "      <td>475.650</td>\n",
       "      <td>1.1042</td>\n",
       "      <td>2066.6050</td>\n",
       "      <td>31.67</td>\n",
       "      <td>191.72</td>\n",
       "    </tr>\n",
       "    <tr>\n",
       "      <th>2605</th>\n",
       "      <td>2023-12-27</td>\n",
       "      <td>193.150000</td>\n",
       "      <td>374.07</td>\n",
       "      <td>50.760</td>\n",
       "      <td>153.3400</td>\n",
       "      <td>384.48</td>\n",
       "      <td>4781.58</td>\n",
       "      <td>12.43</td>\n",
       "      <td>476.510</td>\n",
       "      <td>1.1103</td>\n",
       "      <td>2077.1589</td>\n",
       "      <td>31.98</td>\n",
       "      <td>192.59</td>\n",
       "    </tr>\n",
       "    <tr>\n",
       "      <th>2606</th>\n",
       "      <td>2023-12-28</td>\n",
       "      <td>193.580000</td>\n",
       "      <td>375.28</td>\n",
       "      <td>50.390</td>\n",
       "      <td>153.3800</td>\n",
       "      <td>386.41</td>\n",
       "      <td>4783.35</td>\n",
       "      <td>12.47</td>\n",
       "      <td>476.690</td>\n",
       "      <td>1.1059</td>\n",
       "      <td>2064.8601</td>\n",
       "      <td>31.17</td>\n",
       "      <td>191.47</td>\n",
       "    </tr>\n",
       "    <tr>\n",
       "      <th>2607</th>\n",
       "      <td>2023-12-29</td>\n",
       "      <td>192.530000</td>\n",
       "      <td>376.04</td>\n",
       "      <td>50.250</td>\n",
       "      <td>151.9400</td>\n",
       "      <td>385.77</td>\n",
       "      <td>4769.83</td>\n",
       "      <td>12.45</td>\n",
       "      <td>475.310</td>\n",
       "      <td>1.1036</td>\n",
       "      <td>2062.5900</td>\n",
       "      <td>31.01</td>\n",
       "      <td>191.17</td>\n",
       "    </tr>\n",
       "  </tbody>\n",
       "</table>\n",
       "<p>2608 rows × 13 columns</p>\n",
       "</div>"
      ],
      "text/plain": [
       "            Date      AAPL.O  MSFT.O  INTC.O    AMZN.O    GS.N     .SPX  \\\n",
       "0     2014-01-01         NaN     NaN     NaN       NaN     NaN      NaN   \n",
       "1     2014-01-02   19.754623   37.16  25.790   19.8985  176.89  1831.98   \n",
       "2     2014-01-03   19.320695   36.91  25.780   19.8220  178.15  1831.37   \n",
       "3     2014-01-06   19.426052   36.13  25.460   19.6815  179.37  1826.77   \n",
       "4     2014-01-07   19.287034   36.41  25.585   19.9015  178.29  1837.88   \n",
       "...          ...         ...     ...     ...       ...     ...      ...   \n",
       "2603  2023-12-25         NaN     NaN     NaN       NaN     NaN      NaN   \n",
       "2604  2023-12-26  193.050000  374.66  50.500  153.4100  381.61  4774.75   \n",
       "2605  2023-12-27  193.150000  374.07  50.760  153.3400  384.48  4781.58   \n",
       "2606  2023-12-28  193.580000  375.28  50.390  153.3800  386.41  4783.35   \n",
       "2607  2023-12-29  192.530000  376.04  50.250  151.9400  385.77  4769.83   \n",
       "\n",
       "       .VIX      SPY    EUR=       XAU=    GDX     GLD  \n",
       "0       NaN      NaN  1.3752  1205.2900    NaN     NaN  \n",
       "1     14.23  182.920  1.3670  1224.5100  22.03  118.00  \n",
       "2     13.76  182.885  1.3587  1236.1600  21.83  119.29  \n",
       "3     13.55  182.360  1.3627  1237.5900  21.93  119.50  \n",
       "4     12.92  183.480  1.3615  1231.4900  21.97  118.82  \n",
       "...     ...      ...     ...        ...    ...     ...  \n",
       "2603    NaN      NaN  1.1007        NaN    NaN     NaN  \n",
       "2604  12.99  475.650  1.1042  2066.6050  31.67  191.72  \n",
       "2605  12.43  476.510  1.1103  2077.1589  31.98  192.59  \n",
       "2606  12.47  476.690  1.1059  2064.8601  31.17  191.47  \n",
       "2607  12.45  475.310  1.1036  2062.5900  31.01  191.17  \n",
       "\n",
       "[2608 rows x 13 columns]"
      ]
     },
     "execution_count": 6,
     "metadata": {},
     "output_type": "execute_result"
    }
   ],
   "source": [
    "url = 'https://certificate.tpq.io/rl4finance.csv'\n",
    "df = pd.read_csv(url)\n",
    "df"
   ]
  },
  {
   "cell_type": "code",
   "execution_count": 7,
   "metadata": {},
   "outputs": [],
   "source": [
    "class Finance(Finance):\n",
    "\n",
    "    # method for preparing data\n",
    "    def _prepare_data(self):\n",
    "\n",
    "        # selects the relevant time series data from the DataFrame project\n",
    "        self.data = pd.DataFrame(self.raw[self.symbol]).dropna()\n",
    "\n",
    "        # generates a log return time series from the prime time series\n",
    "        self.data['r'] = np.log(self.data / self.data.shift(1))\n",
    "\n",
    "        # generates the binary, directional data to be predicted from log returns\n",
    "        self.data['d'] = np.where(self.data['r'] > 0, 1, 0)\n",
    "\n",
    "        # gets rid of all rows in the dataframe object that contian NaN\n",
    "        self.data.dropna(inplace=True)\n",
    "\n",
    "        # applies gaussian normalization to the data \n",
    "        self.data_ = (self.data - self.data.mean()) / self.data.std()\n",
    "\n",
    "    \n",
    "    # method for retrieving data\n",
    "    def _get_data(self):\n",
    "        self.raw = pd.read_csv(self.url, index_col=0, parse_dates=True)\n",
    "\n",
    "    \n",
    "    # method for reset\n",
    "    def reset(self):\n",
    "\n",
    "        # sets the current bar to the value for number of features\n",
    "        self.bar = self.n_features\n",
    "\n",
    "        # reset total reward to 0\n",
    "        self.treward = 0\n",
    "\n",
    "        # generates the initial state object to be returned by the method\n",
    "        state = self.data_[self.feature].iloc[self.bar - self.n_features:self.bar].values\n",
    "\n",
    "        return state, {}\n",
    "    \n",
    "\n",
    "    # method for step\n",
    "    def step(self, action):\n",
    "\n",
    "        # checks whether prediction is correct\n",
    "        if action == self.data['d'].iloc[self.bar]:\n",
    "            correct = True\n",
    "        else:\n",
    "            correct = False\n",
    "\n",
    "        # assigns reward depending on correctness\n",
    "        reward = 1 if correct else 0\n",
    "\n",
    "        # increases the total reward\n",
    "        self.treward += reward\n",
    "\n",
    "        # bar value increased to move environment forward on time series\n",
    "        self.bar += 1\n",
    "\n",
    "        # current accuracy is calculated\n",
    "        self.accuracy = self.treward / (self.bar - self.n_features)\n",
    "\n",
    "        # checks whether end of dataset is reached\n",
    "        if self.bar >= len(self.data):\n",
    "            done = True\n",
    "\n",
    "        # checks whether prediction is correct\n",
    "        elif reward == 1:\n",
    "            done = False\n",
    "\n",
    "        # checks whether current accuracy is above minimum required accuracy\n",
    "        elif(self.accuracy < self.min_accuracy) and (self.bar > 15):\n",
    "            done = True\n",
    "        else:\n",
    "            done = False\n",
    "\n",
    "        # generates the next state object to be returned by the method\n",
    "        next_state = self.data_[self.feature].iloc[self.bar - self.n_features:self.bar].values\n",
    "        \n",
    "        return next_state, reward, done, False, {}\n",
    "\n"
   ]
  },
  {
   "cell_type": "code",
   "execution_count": 8,
   "metadata": {},
   "outputs": [
    {
     "data": {
      "text/plain": [
       "['AAPL.O',\n",
       " 'MSFT.O',\n",
       " 'INTC.O',\n",
       " 'AMZN.O',\n",
       " 'GS.N',\n",
       " '.SPX',\n",
       " '.VIX',\n",
       " 'SPY',\n",
       " 'EUR=',\n",
       " 'XAU=',\n",
       " 'GDX',\n",
       " 'GLD']"
      ]
     },
     "execution_count": 8,
     "metadata": {},
     "output_type": "execute_result"
    }
   ],
   "source": [
    "fin = Finance(symbol='EUR=', feature='EUR=')\n",
    "\n",
    "list(fin.raw.columns)"
   ]
  },
  {
   "cell_type": "code",
   "execution_count": 9,
   "metadata": {},
   "outputs": [
    {
     "data": {
      "text/plain": [
       "(array([2.74844931, 2.64643904, 2.69560062, 2.68085214]), {})"
      ]
     },
     "execution_count": 9,
     "metadata": {},
     "output_type": "execute_result"
    }
   ],
   "source": [
    "fin.reset()"
   ]
  },
  {
   "cell_type": "code",
   "execution_count": 11,
   "metadata": {},
   "outputs": [
    {
     "data": {
      "text/plain": [
       "1"
      ]
     },
     "execution_count": 11,
     "metadata": {},
     "output_type": "execute_result"
    }
   ],
   "source": [
    "fin.action_space.sample()"
   ]
  },
  {
   "cell_type": "code",
   "execution_count": 12,
   "metadata": {},
   "outputs": [
    {
     "data": {
      "text/plain": [
       "(array([2.64643904, 2.69560062, 2.68085214, 2.63046153]), 1, False, False, {})"
      ]
     },
     "execution_count": 12,
     "metadata": {},
     "output_type": "execute_result"
    }
   ],
   "source": [
    "fin.step(fin.action_space.sample())"
   ]
  },
  {
   "cell_type": "code",
   "execution_count": 14,
   "metadata": {},
   "outputs": [
    {
     "data": {
      "text/plain": [
       "(array([-1.19130476, -1.21344494,  0.61099805, -0.16094865]), {})"
      ]
     },
     "execution_count": 14,
     "metadata": {},
     "output_type": "execute_result"
    }
   ],
   "source": [
    "fin = Finance('EUR=', 'r')\n",
    "fin.reset()"
   ]
  },
  {
   "cell_type": "code",
   "execution_count": 15,
   "metadata": {},
   "outputs": [],
   "source": [
    "class RandomAgent:\n",
    "\n",
    "    # setting up the constructor\n",
    "    def __init__(self):\n",
    "        self.env = Finance('EUR=', 'r')\n",
    "    \n",
    "    # the play method\n",
    "    def play(self, episodes=1):\n",
    "        self.trewards = list()\n",
    "\n",
    "        for e in range(episodes):\n",
    "            self.env.reset()\n",
    "\n",
    "            for step in range(1, 100):\n",
    "                a = self.env.action_space.sample()\n",
    "                state, reward, done, trunc, info = self.env.step(a)\n",
    "\n",
    "                if done:\n",
    "                    self.trewards.append(step)\n",
    "                    break"
   ]
  },
  {
   "cell_type": "code",
   "execution_count": 16,
   "metadata": {},
   "outputs": [
    {
     "data": {
      "text/plain": [
       "[15, 12, 12, 12, 12, 15, 12, 27, 13, 12, 13, 13, 13, 12]"
      ]
     },
     "execution_count": 16,
     "metadata": {},
     "output_type": "execute_result"
    }
   ],
   "source": [
    "ra = RandomAgent()\n",
    "\n",
    "ra.play(15)\n",
    "\n",
    "ra.trewards"
   ]
  },
  {
   "cell_type": "code",
   "execution_count": 17,
   "metadata": {},
   "outputs": [
    {
     "data": {
      "text/plain": [
       "13.79"
      ]
     },
     "execution_count": 17,
     "metadata": {},
     "output_type": "execute_result"
    }
   ],
   "source": [
    "round(sum(ra.trewards) / len(ra.trewards), 2)"
   ]
  },
  {
   "cell_type": "code",
   "execution_count": null,
   "metadata": {},
   "outputs": [],
   "source": [
    "len(fin.data)"
   ]
  }
 ],
 "metadata": {
  "kernelspec": {
   "display_name": "tfEnv",
   "language": "python",
   "name": "python3"
  },
  "language_info": {
   "codemirror_mode": {
    "name": "ipython",
    "version": 3
   },
   "file_extension": ".py",
   "mimetype": "text/x-python",
   "name": "python",
   "nbconvert_exporter": "python",
   "pygments_lexer": "ipython3",
   "version": "3.10.8"
  }
 },
 "nbformat": 4,
 "nbformat_minor": 2
}
